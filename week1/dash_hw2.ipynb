{
  "cells": [
    {
      "cell_type": "code",
      "execution_count": null,
      "metadata": {
        "id": "ouKVXnfnTC4b"
      },
      "outputs": [],
      "source": [
        "!pip install dash\n",
        "!pip install plotly.express\n",
        "!pip install pandas"
      ]
    },
    {
      "cell_type": "code",
      "execution_count": 2,
      "metadata": {
        "colab": {
          "base_uri": "https://localhost:8080/",
          "height": 671
        },
        "id": "YiZ7GBwSS7PV",
        "outputId": "8b0fee29-0798-4997-8444-dbc4e6c9aaa0"
      },
      "outputs": [
        {
          "data": {
            "application/javascript": "(async (port, path, width, height, cache, element) => {\n    if (!google.colab.kernel.accessAllowed && !cache) {\n      return;\n    }\n    element.appendChild(document.createTextNode(''));\n    const url = await google.colab.kernel.proxyPort(port, {cache});\n    const iframe = document.createElement('iframe');\n    iframe.src = new URL(path, url).toString();\n    iframe.height = height;\n    iframe.width = width;\n    iframe.style.border = 0;\n    iframe.allow = [\n        'accelerometer',\n        'autoplay',\n        'camera',\n        'clipboard-read',\n        'clipboard-write',\n        'gyroscope',\n        'magnetometer',\n        'microphone',\n        'serial',\n        'usb',\n        'xr-spatial-tracking',\n    ].join('; ');\n    element.appendChild(iframe);\n  })(8050, \"/\", \"100%\", 650, false, window.element)",
            "text/plain": [
              "<IPython.core.display.Javascript object>"
            ]
          },
          "metadata": {},
          "output_type": "display_data"
        }
      ],
      "source": [
        "from dash import Dash, html, dcc, callback, Output, Input\n",
        "import plotly.express as px\n",
        "import pandas as pd\n",
        "\n",
        "df = pd.read_csv(\"https://raw.githubusercontent.com/plotly/datasets/master/Dash-Course/US-Exports/2011_us_ag_exports.csv\")\n",
        "\n",
        "y_var: list[str] = [\"beef\", \"pork\", \"fruits fresh\"]\n",
        "fig = px.bar(df[df[\"state\"] == \"Alabama\"], x='state', y=y_var, title=\"Beef, Pork, Fruits by State\")\n",
        "\n",
        "app = Dash(__name__)\n",
        "\n",
        "app.layout = html.Div([\n",
        "    html.Div(id=\"my-title\", children=\"US Agricultural Exports in 2011\"),\n",
        "    dcc.Dropdown(id='state-dropdown', className='state-dropdown',\n",
        "        options=df[\"state\"],\n",
        "        value='Alabama',\n",
        "        multi = True\n",
        "    ),\n",
        "    dcc.Graph(figure=fig, id=\"graph1\", className=\"graph1\")\n",
        "])\n",
        "\n",
        "@callback (\n",
        "    Output(component_id=\"graph1\", component_property=\"figure\"),\n",
        "    Input(component_id=\"state-dropdown\", component_property=\"value\"),\n",
        "    prevent_initial_call = True\n",
        ")\n",
        "def update_graph(states_selected: list[str]):\n",
        "    new_df = df[df[\"state\"].isin(states_selected)]\n",
        "    new_fig = px.bar(new_df, x=\"state\", y=y_var, title=\"Beef, Pork, Fruits by State\")\n",
        "    return new_fig\n",
        "\n",
        "if __name__ == \"__main__\":\n",
        "    app.run(debug=True, dev_tools_hot_reload=True)\n"
      ]
    }
  ],
  "metadata": {
    "colab": {
      "provenance": []
    },
    "kernelspec": {
      "display_name": "Python 3",
      "name": "python3"
    },
    "language_info": {
      "name": "python"
    }
  },
  "nbformat": 4,
  "nbformat_minor": 0
}
