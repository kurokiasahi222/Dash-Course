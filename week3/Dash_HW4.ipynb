{
  "cells": [
    {
      "cell_type": "markdown",
      "metadata": {
        "id": "1YrZ-W5aVJzT"
      },
      "source": [
        "## Exercise **A**"
      ]
    },
    {
      "cell_type": "code",
      "execution_count": 1,
      "metadata": {
        "colab": {
          "base_uri": "https://localhost:8080/"
        },
        "id": "ympX5UwkVPjE",
        "outputId": "7af38846-de06-46b2-b7b3-697c145be237"
      },
      "outputs": [
        {
          "name": "stdout",
          "output_type": "stream",
          "text": [
            "\u001b[2K     \u001b[90m━━━━━━━━━━━━━━━━━━━━━━━━━━━━━━━━━━━━━━━━\u001b[0m \u001b[32m10.2/10.2 MB\u001b[0m \u001b[31m23.9 MB/s\u001b[0m eta \u001b[36m0:00:00\u001b[0m\n",
            "\u001b[2K     \u001b[90m━━━━━━━━━━━━━━━━━━━━━━━━━━━━━━━━━━━━━━━━\u001b[0m \u001b[32m221.2/221.2 kB\u001b[0m \u001b[31m16.6 MB/s\u001b[0m eta \u001b[36m0:00:00\u001b[0m\n",
            "\u001b[?25h"
          ]
        }
      ],
      "source": [
        "!pip install dash dash-bootstrap-components pandas plotly -qqqq"
      ]
    },
    {
      "cell_type": "code",
      "execution_count": 2,
      "metadata": {
        "colab": {
          "base_uri": "https://localhost:8080/",
          "height": 671
        },
        "id": "PF6Ug-7eU_7a",
        "outputId": "9e26f3be-1d22-4218-85a7-a50d9da8a22f"
      },
      "outputs": [
        {
          "data": {
            "application/javascript": "(async (port, path, width, height, cache, element) => {\n    if (!google.colab.kernel.accessAllowed && !cache) {\n      return;\n    }\n    element.appendChild(document.createTextNode(''));\n    const url = await google.colab.kernel.proxyPort(port, {cache});\n    const iframe = document.createElement('iframe');\n    iframe.src = new URL(path, url).toString();\n    iframe.height = height;\n    iframe.width = width;\n    iframe.style.border = 0;\n    iframe.allow = [\n        'accelerometer',\n        'autoplay',\n        'camera',\n        'clipboard-read',\n        'clipboard-write',\n        'gyroscope',\n        'magnetometer',\n        'microphone',\n        'serial',\n        'usb',\n        'xr-spatial-tracking',\n    ].join('; ');\n    element.appendChild(iframe);\n  })(8050, \"/\", \"100%\", 650, false, window.element)",
            "text/plain": [
              "<IPython.core.display.Javascript object>"
            ]
          },
          "metadata": {},
          "output_type": "display_data"
        }
      ],
      "source": [
        "from dash import Dash, dcc, html, Input, Output, State\n",
        "import pandas as pd\n",
        "import plotly.express as px\n",
        "import dash_bootstrap_components as dbc\n",
        "\n",
        "df = pd.read_csv('https://raw.githubusercontent.com/plotly/datasets/master/Dash-Course/US-Exports/2011_us_ag_exports.csv')\n",
        "\n",
        "app = Dash(__name__)\n",
        "\n",
        "app.layout = html.Div([\n",
        "   html.Div(\"Us Agricultural Exports in 2011\", id=\"my-title\"),\n",
        "   dcc.Dropdown(id=\"state-dropdown\", options=df.state.unique(), multi=True),\n",
        "   html.Button(\"submit\", id=\"state-button\", disabled=True),\n",
        "   html.Div(\n",
        "      dbc.Alert(\"Please select states\", color=\"warning\", id=\"alert\"),\n",
        "   ),\n",
        "   dcc.Graph(id=\"graph1\")\n",
        "])\n",
        "\n",
        "@app.callback(Output('state-button', 'disabled'),\n",
        "              Output(\"alert\", \"is_open\"),\n",
        "              [Input('state-dropdown', 'value')],\n",
        "              prevent_initial_call=True,\n",
        "            )\n",
        "def set_button_enabled_state(states_selected):\n",
        "    if states_selected and len(states_selected) > 0:\n",
        "       return False, False\n",
        "    return True, True\n",
        "\n",
        "@app.callback(\n",
        "   Output(component_id='graph1', component_property='figure'),\n",
        "   Input(component_id=\"state-button\", component_property=\"n_clicks\"),\n",
        "   State(component_id='state-dropdown', component_property='value'),\n",
        "   prevent_initial_call=True\n",
        ")\n",
        "def update_graph(n_clicks, states_selected):\n",
        "    if (n_clicks > 0):\n",
        "        df_states = df[df.state.isin(states_selected)]\n",
        "        fig1 = px.bar(data_frame=df_states, x='state', y=['beef','pork','fruits fresh'])\n",
        "        return fig1\n",
        "\n",
        "    return px.bar()\n",
        "\n",
        "if __name__ == '__main__':\n",
        "  app.run(debug=True)"
      ]
    },
    {
      "cell_type": "markdown",
      "metadata": {
        "id": "VASpo87-VYS4"
      },
      "source": [
        "## Exercise **B**"
      ]
    },
    {
      "cell_type": "code",
      "execution_count": 3,
      "metadata": {
        "colab": {
          "base_uri": "https://localhost:8080/",
          "height": 671
        },
        "id": "fSy-u49-Vknq",
        "outputId": "24fdee03-79f3-478e-a719-8ebfa5771268"
      },
      "outputs": [
        {
          "data": {
            "application/javascript": "(async (port, path, width, height, cache, element) => {\n    if (!google.colab.kernel.accessAllowed && !cache) {\n      return;\n    }\n    element.appendChild(document.createTextNode(''));\n    const url = await google.colab.kernel.proxyPort(port, {cache});\n    const iframe = document.createElement('iframe');\n    iframe.src = new URL(path, url).toString();\n    iframe.height = height;\n    iframe.width = width;\n    iframe.style.border = 0;\n    iframe.allow = [\n        'accelerometer',\n        'autoplay',\n        'camera',\n        'clipboard-read',\n        'clipboard-write',\n        'gyroscope',\n        'magnetometer',\n        'microphone',\n        'serial',\n        'usb',\n        'xr-spatial-tracking',\n    ].join('; ');\n    element.appendChild(iframe);\n  })(8050, \"/\", \"100%\", 650, false, window.element)",
            "text/plain": [
              "<IPython.core.display.Javascript object>"
            ]
          },
          "metadata": {},
          "output_type": "display_data"
        }
      ],
      "source": [
        "from dash import Dash, dcc, html, Input, Output, State\n",
        "import pandas as pd\n",
        "import plotly.express as px\n",
        "\n",
        "df = pd.read_csv('https://raw.githubusercontent.com/plotly/datasets/master/Dash-Course/US-Exports/2011_us_ag_exports.csv')\n",
        "\n",
        "app = Dash(__name__)\n",
        "\n",
        "app.layout = html.Div([\n",
        "   html.Div(id=\"my-title\", children=\"Us Agricultural Exports in 2011\"),\n",
        "   dcc.Graph(id=\"graph1\"),\n",
        "   dcc.Interval(id=\"updates\", interval=2000, n_intervals=0)\n",
        "])\n",
        "\n",
        "@app.callback(\n",
        "   Output(component_id='graph1', component_property='figure'),\n",
        "   Input(\"updates\", \"n_intervals\"),\n",
        ")\n",
        "def update_graph(n):\n",
        "    if 0 < n < 6:\n",
        "       state_added = df.state[0:n] # take rows from zero to n\n",
        "       df_states = df[df.state.isin(state_added)] # filter the dataframe (df) state column by state_added\n",
        "       fig1 = px.bar(data_frame=df_states, x='state', y=['beef','pork','fruits fresh'])\n",
        "       return fig1\n",
        "    else:\n",
        "        return px.bar()\n",
        "\n",
        "\n",
        "if __name__ == '__main__':\n",
        "  app.run(debug=True)"
      ]
    }
  ],
  "metadata": {
    "colab": {
      "provenance": []
    },
    "kernelspec": {
      "display_name": "Python 3",
      "name": "python3"
    },
    "language_info": {
      "name": "python"
    }
  },
  "nbformat": 4,
  "nbformat_minor": 0
}
